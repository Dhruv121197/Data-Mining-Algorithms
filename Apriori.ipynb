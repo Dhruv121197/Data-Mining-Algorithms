{
  "nbformat": 4,
  "nbformat_minor": 0,
  "metadata": {
    "colab": {
      "name": "Apriori.ipynb",
      "version": "0.3.2",
      "provenance": [],
      "collapsed_sections": [],
      "include_colab_link": true
    },
    "kernelspec": {
      "name": "python3",
      "display_name": "Python 3"
    }
  },
  "cells": [
    {
      "cell_type": "markdown",
      "metadata": {
        "id": "view-in-github",
        "colab_type": "text"
      },
      "source": [
        "<a href=\"https://colab.research.google.com/github/Dhruv121197/hello-world/blob/master/Apriori.ipynb\" target=\"_parent\"><img src=\"https://colab.research.google.com/assets/colab-badge.svg\" alt=\"Open In Colab\"/></a>"
      ]
    },
    {
      "metadata": {
        "id": "YyD8E0pZs59T",
        "colab_type": "code",
        "colab": {}
      },
      "cell_type": "code",
      "source": [
        "import math\n",
        "def Apriori(df, min_support):\n",
        "  \n",
        "  supp = math.ceil(((min_support*1.0)/len(df.index)))\n",
        "  C = []\n",
        "  L = []\n",
        "  \n",
        "  for column in df:\n",
        "    sup_cnt = sum(df[column])\n",
        "    C.append([[column],sup_cnt])\n",
        "    if sup_cnt >= supp:\n",
        "      L.append([[column], sup_cnt])\n",
        "    \n",
        "  dfC = pd.DataFrame(C, columns = ['Itemset', 'Support Count'])\n",
        "  dfL = pd.DataFrame(L, columns = ['Itemset', 'Support Count'])\n",
        "  print(dfC)\n",
        "  print()\n",
        "  print(dfL)\n",
        "  \n",
        "  k = len(df.columns)\n",
        "  \n",
        "  for index in range(2, k):\n",
        "    C_index = []\n",
        "    L_index = []\n",
        "    for i in range(len(L)-1):\n",
        "      for j in range(i+1,len(L)):\n",
        "        li = L[i][0] + L[j][0]\n",
        "        li = list(dict.fromkeys(li))\n",
        "        li.sort()\n",
        "        indices = list(range(0, len(df.index)))\n",
        "        for item in li:\n",
        "          indices1 = [ii for ii, x in enumerate(df[item]) if x]\n",
        "          indices = list(set(indices) & set(indices1))\n",
        "        sup_cnt = len(indices)\n",
        "        if(len(li) == index):\n",
        "          C_index.append([li, sup_cnt])\n",
        "          \n",
        "        if(sup_cnt >= supp and len(li) == index):\n",
        "          L_index.append([li,sup_cnt])\n",
        "    L = L_index\n",
        "    import itertools\n",
        "    C_index.sort()\n",
        "    L_index.sort()\n",
        "    C_index = list(C_index for C_index,_ in itertools.groupby(C_index))\n",
        "    L_index = list(L_index for L_index,_ in itertools.groupby(L_index))\n",
        "    dfC = pd.DataFrame(C_index, columns = ['Itemset', 'Support Count'])\n",
        "    dfL = pd.DataFrame(L_index, columns = ['Itemset', 'Support Count'])\n",
        "    print(dfC)\n",
        "    print()\n",
        "    print(dfL)\n",
        "      \n",
        "       \n",
        "    \n",
        "        \n",
        "        \n",
        "        \n",
        "        \n",
        "    \n",
        "    \n",
        "        \n",
        "    \n",
        "  \n",
        "  \n",
        "  \n",
        "  \n",
        "  \n",
        "  \n",
        "\n",
        "  \n",
        "  \n",
        "  \n",
        "  "
      ],
      "execution_count": 0,
      "outputs": []
    },
    {
      "metadata": {
        "id": "xQ7xuSOLqIUS",
        "colab_type": "code",
        "colab": {}
      },
      "cell_type": "code",
      "source": [
        "import pandas as pd"
      ],
      "execution_count": 0,
      "outputs": []
    },
    {
      "metadata": {
        "id": "3b9-xp8rsXoX",
        "colab_type": "code",
        "colab": {}
      },
      "cell_type": "code",
      "source": [
        "from mlxtend.preprocessing import TransactionEncoder"
      ],
      "execution_count": 0,
      "outputs": []
    },
    {
      "metadata": {
        "id": "sQeH5Z1CsiPv",
        "colab_type": "code",
        "colab": {}
      },
      "cell_type": "code",
      "source": [
        "dataset = [['Milk', 'Onion', 'Nutmeg', 'Kidney Beans', 'Eggs', 'Yogurt'],\n",
        "           ['Dill', 'Onion', 'Nutmeg', 'Kidney Beans', 'Eggs', 'Yogurt'],\n",
        "           ['Milk', 'Apple', 'Kidney Beans', 'Eggs'],\n",
        "           ['Milk', 'Unicorn', 'Corn', 'Kidney Beans', 'Yogurt'],\n",
        "           ['Corn', 'Onion', 'Onion', 'Kidney Beans', 'Ice cream', 'Eggs']]"
      ],
      "execution_count": 0,
      "outputs": []
    },
    {
      "metadata": {
        "id": "_rBPGcjsstOV",
        "colab_type": "code",
        "colab": {}
      },
      "cell_type": "code",
      "source": [
        "te = TransactionEncoder()\n",
        "te_ary = te.fit(dataset).transform(dataset)\n",
        "df = pd.DataFrame(te_ary, columns=te.columns_)"
      ],
      "execution_count": 0,
      "outputs": []
    },
    {
      "metadata": {
        "id": "CyA2H1J7usjd",
        "colab_type": "code",
        "colab": {}
      },
      "cell_type": "code",
      "source": [
        "Apriori(df, 0.1)"
      ],
      "execution_count": 0,
      "outputs": []
    }
  ]
}